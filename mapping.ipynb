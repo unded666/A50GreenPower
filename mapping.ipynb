{
 "cells": [
  {
   "cell_type": "markdown",
   "id": "0c770700-6499-4ce0-b5b7-ffd2b1fd2cb9",
   "metadata": {},
   "source": [
    "# Building pretty maps"
   ]
  },
  {
   "cell_type": "markdown",
   "id": "4bd0181a-f3cf-4b05-95a1-7fbefc8c2012",
   "metadata": {},
   "source": [
    "## Data Load"
   ]
  },
  {
   "cell_type": "code",
   "execution_count": 22,
   "id": "1c640232-b6f9-41a6-b044-a8a0c359d854",
   "metadata": {},
   "outputs": [],
   "source": [
    "import geopandas as gpd\n",
    "import pandas as pd\n",
    "import matplotlib.pyplot as plt\n",
    "import folium\n",
    "import selenium\n",
    "from PIL import Image\n",
    "import io"
   ]
  },
  {
   "cell_type": "markdown",
   "id": "3f43b108-f6dd-4507-b81d-962de6f4b718",
   "metadata": {},
   "source": [
    "### load in data centre file"
   ]
  },
  {
   "cell_type": "code",
   "execution_count": 2,
   "id": "0ac36192-a634-45de-8016-f912cfa770f4",
   "metadata": {},
   "outputs": [
    {
     "data": {
      "text/html": [
       "<div>\n",
       "<style scoped>\n",
       "    .dataframe tbody tr th:only-of-type {\n",
       "        vertical-align: middle;\n",
       "    }\n",
       "\n",
       "    .dataframe tbody tr th {\n",
       "        vertical-align: top;\n",
       "    }\n",
       "\n",
       "    .dataframe thead th {\n",
       "        text-align: right;\n",
       "    }\n",
       "</style>\n",
       "<table border=\"1\" class=\"dataframe\">\n",
       "  <thead>\n",
       "    <tr style=\"text-align: right;\">\n",
       "      <th></th>\n",
       "      <th>Unnamed: 0</th>\n",
       "      <th>Country</th>\n",
       "      <th>Total Land Area</th>\n",
       "      <th>Total Build Area</th>\n",
       "      <th>Total Available Land</th>\n",
       "      <th>Total Annual Power Consumption</th>\n",
       "      <th>Land Requirement for Solar</th>\n",
       "      <th>Site</th>\n",
       "      <th>Latitude</th>\n",
       "      <th>Longitude</th>\n",
       "      <th>std</th>\n",
       "      <th>mean</th>\n",
       "      <th>vari_score</th>\n",
       "      <th>PV</th>\n",
       "      <th>Expected Total Land Required</th>\n",
       "      <th>Excess Land Required</th>\n",
       "      <th>Land Price (R per Ha)</th>\n",
       "      <th>Total Land Price (R)</th>\n",
       "      <th>Land Use Preference</th>\n",
       "    </tr>\n",
       "  </thead>\n",
       "  <tbody>\n",
       "    <tr>\n",
       "      <th>0</th>\n",
       "      <td>0</td>\n",
       "      <td>South Africa</td>\n",
       "      <td>6379.00</td>\n",
       "      <td>929.0</td>\n",
       "      <td>5450.0</td>\n",
       "      <td>3412020.0</td>\n",
       "      <td>7081.818182</td>\n",
       "      <td>Berea Switch</td>\n",
       "      <td>E31 00.381</td>\n",
       "      <td>S29 51.443</td>\n",
       "      <td>5.338546</td>\n",
       "      <td>124.751411</td>\n",
       "      <td>0.042793</td>\n",
       "      <td>1467</td>\n",
       "      <td>11629.243354</td>\n",
       "      <td>6179.243354</td>\n",
       "      <td>6212.595318</td>\n",
       "      <td>7.224778e+07</td>\n",
       "      <td>0.0</td>\n",
       "    </tr>\n",
       "    <tr>\n",
       "      <th>1</th>\n",
       "      <td>3</td>\n",
       "      <td>South Africa</td>\n",
       "      <td>1390.00</td>\n",
       "      <td>1344.0</td>\n",
       "      <td>46.0</td>\n",
       "      <td>2504922.0</td>\n",
       "      <td>5199.090909</td>\n",
       "      <td>Bloemfontein Switch</td>\n",
       "      <td>E26 13.174</td>\n",
       "      <td>S29 06.934</td>\n",
       "      <td>8.506760</td>\n",
       "      <td>157.255829</td>\n",
       "      <td>0.054095</td>\n",
       "      <td>1867</td>\n",
       "      <td>6708.414569</td>\n",
       "      <td>6662.414569</td>\n",
       "      <td>3097.995046</td>\n",
       "      <td>2.078264e+07</td>\n",
       "      <td>0.0</td>\n",
       "    </tr>\n",
       "    <tr>\n",
       "      <th>2</th>\n",
       "      <td>6</td>\n",
       "      <td>South Africa</td>\n",
       "      <td>790.00</td>\n",
       "      <td>790.0</td>\n",
       "      <td>0.0</td>\n",
       "      <td>1489638.0</td>\n",
       "      <td>3091.818182</td>\n",
       "      <td>Cape Town Switch</td>\n",
       "      <td>E18 25.321</td>\n",
       "      <td>S33 55.810</td>\n",
       "      <td>34.628254</td>\n",
       "      <td>145.681747</td>\n",
       "      <td>0.237698</td>\n",
       "      <td>1688</td>\n",
       "      <td>4412.434834</td>\n",
       "      <td>4412.434834</td>\n",
       "      <td>5120.483718</td>\n",
       "      <td>2.259380e+07</td>\n",
       "      <td>0.0</td>\n",
       "    </tr>\n",
       "    <tr>\n",
       "      <th>3</th>\n",
       "      <td>9</td>\n",
       "      <td>South Africa</td>\n",
       "      <td>14856.00</td>\n",
       "      <td>3455.0</td>\n",
       "      <td>11401.0</td>\n",
       "      <td>6324720.0</td>\n",
       "      <td>13127.272727</td>\n",
       "      <td>Centurion</td>\n",
       "      <td>E28 10.206</td>\n",
       "      <td>S25 54.584</td>\n",
       "      <td>10.737539</td>\n",
       "      <td>151.091507</td>\n",
       "      <td>0.071066</td>\n",
       "      <td>1782</td>\n",
       "      <td>17746.127946</td>\n",
       "      <td>6345.127946</td>\n",
       "      <td>13106.048683</td>\n",
       "      <td>2.325816e+08</td>\n",
       "      <td>0.0</td>\n",
       "    </tr>\n",
       "    <tr>\n",
       "      <th>4</th>\n",
       "      <td>12</td>\n",
       "      <td>South Africa</td>\n",
       "      <td>5370.41</td>\n",
       "      <td>3934.0</td>\n",
       "      <td>0.0</td>\n",
       "      <td>12483000.0</td>\n",
       "      <td>25909.090909</td>\n",
       "      <td>Doornfontein</td>\n",
       "      <td>E28 03.333</td>\n",
       "      <td>S26 11.783</td>\n",
       "      <td>12.330755</td>\n",
       "      <td>149.564499</td>\n",
       "      <td>0.082444</td>\n",
       "      <td>1765</td>\n",
       "      <td>35362.606232</td>\n",
       "      <td>35362.606232</td>\n",
       "      <td>13140.323843</td>\n",
       "      <td>4.646761e+08</td>\n",
       "      <td>0.4</td>\n",
       "    </tr>\n",
       "  </tbody>\n",
       "</table>\n",
       "</div>"
      ],
      "text/plain": [
       "   Unnamed: 0       Country  Total Land Area  Total Build Area  \\\n",
       "0           0  South Africa          6379.00             929.0   \n",
       "1           3  South Africa          1390.00            1344.0   \n",
       "2           6  South Africa           790.00             790.0   \n",
       "3           9  South Africa         14856.00            3455.0   \n",
       "4          12  South Africa          5370.41            3934.0   \n",
       "\n",
       "   Total Available Land  Total Annual Power Consumption  \\\n",
       "0                5450.0                       3412020.0   \n",
       "1                  46.0                       2504922.0   \n",
       "2                   0.0                       1489638.0   \n",
       "3               11401.0                       6324720.0   \n",
       "4                   0.0                      12483000.0   \n",
       "\n",
       "   Land Requirement for Solar                   Site    Latitude   Longitude  \\\n",
       "0                 7081.818182         Berea Switch    E31 00.381  S29 51.443   \n",
       "1                 5199.090909  Bloemfontein Switch    E26 13.174  S29 06.934   \n",
       "2                 3091.818182     Cape Town Switch    E18 25.321  S33 55.810   \n",
       "3                13127.272727             Centurion   E28 10.206  S25 54.584   \n",
       "4                25909.090909  Doornfontein           E28 03.333  S26 11.783   \n",
       "\n",
       "         std        mean  vari_score    PV  Expected Total Land Required  \\\n",
       "0   5.338546  124.751411    0.042793  1467                  11629.243354   \n",
       "1   8.506760  157.255829    0.054095  1867                   6708.414569   \n",
       "2  34.628254  145.681747    0.237698  1688                   4412.434834   \n",
       "3  10.737539  151.091507    0.071066  1782                  17746.127946   \n",
       "4  12.330755  149.564499    0.082444  1765                  35362.606232   \n",
       "\n",
       "   Excess Land Required  Land Price (R per Ha)  Total Land Price (R)  \\\n",
       "0           6179.243354            6212.595318          7.224778e+07   \n",
       "1           6662.414569            3097.995046          2.078264e+07   \n",
       "2           4412.434834            5120.483718          2.259380e+07   \n",
       "3           6345.127946           13106.048683          2.325816e+08   \n",
       "4          35362.606232           13140.323843          4.646761e+08   \n",
       "\n",
       "   Land Use Preference  \n",
       "0                  0.0  \n",
       "1                  0.0  \n",
       "2                  0.0  \n",
       "3                  0.0  \n",
       "4                  0.4  "
      ]
     },
     "execution_count": 2,
     "metadata": {},
     "output_type": "execute_result"
    }
   ],
   "source": [
    "DCFile = './Data/Output_files/Spreadsheets/outfile.xlsx'\n",
    "df_dc = pd.read_excel(DCFile)\n",
    "df_dc.head()"
   ]
  },
  {
   "cell_type": "markdown",
   "id": "49284929-4e83-452e-9725-eeca271308cd",
   "metadata": {},
   "source": [
    "Great, there's our base data. It's much too rich, we just want names, cost and locations for now"
   ]
  },
  {
   "cell_type": "markdown",
   "id": "677302bc-abf5-42bd-bdb5-67145a0f2e24",
   "metadata": {},
   "source": [
    "### Strip down data centre file to essentials"
   ]
  },
  {
   "cell_type": "code",
   "execution_count": 3,
   "id": "e4698605-4aa3-4860-af06-59dab46dcb23",
   "metadata": {},
   "outputs": [
    {
     "data": {
      "text/html": [
       "<div>\n",
       "<style scoped>\n",
       "    .dataframe tbody tr th:only-of-type {\n",
       "        vertical-align: middle;\n",
       "    }\n",
       "\n",
       "    .dataframe tbody tr th {\n",
       "        vertical-align: top;\n",
       "    }\n",
       "\n",
       "    .dataframe thead th {\n",
       "        text-align: right;\n",
       "    }\n",
       "</style>\n",
       "<table border=\"1\" class=\"dataframe\">\n",
       "  <thead>\n",
       "    <tr style=\"text-align: right;\">\n",
       "      <th></th>\n",
       "      <th>Site</th>\n",
       "      <th>Longitude</th>\n",
       "      <th>Latitude</th>\n",
       "      <th>Total Land Price (R)</th>\n",
       "    </tr>\n",
       "  </thead>\n",
       "  <tbody>\n",
       "    <tr>\n",
       "      <th>0</th>\n",
       "      <td>Berea Switch</td>\n",
       "      <td>S29 51.443</td>\n",
       "      <td>E31 00.381</td>\n",
       "      <td>7.224778e+07</td>\n",
       "    </tr>\n",
       "    <tr>\n",
       "      <th>1</th>\n",
       "      <td>Bloemfontein Switch</td>\n",
       "      <td>S29 06.934</td>\n",
       "      <td>E26 13.174</td>\n",
       "      <td>2.078264e+07</td>\n",
       "    </tr>\n",
       "    <tr>\n",
       "      <th>2</th>\n",
       "      <td>Cape Town Switch</td>\n",
       "      <td>S33 55.810</td>\n",
       "      <td>E18 25.321</td>\n",
       "      <td>2.259380e+07</td>\n",
       "    </tr>\n",
       "    <tr>\n",
       "      <th>3</th>\n",
       "      <td>Centurion</td>\n",
       "      <td>S25 54.584</td>\n",
       "      <td>E28 10.206</td>\n",
       "      <td>2.325816e+08</td>\n",
       "    </tr>\n",
       "    <tr>\n",
       "      <th>4</th>\n",
       "      <td>Doornfontein</td>\n",
       "      <td>S26 11.783</td>\n",
       "      <td>E28 03.333</td>\n",
       "      <td>4.646761e+08</td>\n",
       "    </tr>\n",
       "  </tbody>\n",
       "</table>\n",
       "</div>"
      ],
      "text/plain": [
       "                    Site   Longitude    Latitude  Total Land Price (R)\n",
       "0         Berea Switch    S29 51.443  E31 00.381          7.224778e+07\n",
       "1  Bloemfontein Switch    S29 06.934  E26 13.174          2.078264e+07\n",
       "2     Cape Town Switch    S33 55.810  E18 25.321          2.259380e+07\n",
       "3             Centurion   S25 54.584  E28 10.206          2.325816e+08\n",
       "4  Doornfontein           S26 11.783  E28 03.333          4.646761e+08"
      ]
     },
     "execution_count": 3,
     "metadata": {},
     "output_type": "execute_result"
    }
   ],
   "source": [
    "keep_cols = ['Site', 'Longitude', 'Latitude', 'Total Land Price (R)']\n",
    "df = df_dc[keep_cols]\n",
    "df.head()"
   ]
  },
  {
   "cell_type": "markdown",
   "id": "9241777e-75e9-4ce3-a2bb-2561c0103d9d",
   "metadata": {},
   "source": [
    "### get geopandas world map"
   ]
  },
  {
   "cell_type": "code",
   "execution_count": 4,
   "id": "64b9bd17-73eb-46d5-9b57-611d990bebd9",
   "metadata": {},
   "outputs": [
    {
     "data": {
      "text/plain": [
       "['naturalearth_cities', 'naturalearth_lowres', 'nybb']"
      ]
     },
     "execution_count": 4,
     "metadata": {},
     "output_type": "execute_result"
    }
   ],
   "source": [
    "gpd.datasets.available"
   ]
  },
  {
   "cell_type": "code",
   "execution_count": 5,
   "id": "ea4e95b4-dd20-4504-ab8d-4b63e8cc6e4f",
   "metadata": {},
   "outputs": [
    {
     "name": "stderr",
     "output_type": "stream",
     "text": [
      "C:\\Users\\hurwi\\AppData\\Local\\Temp\\ipykernel_4832\\3187775905.py:1: FutureWarning: The geopandas.dataset module is deprecated and will be removed in GeoPandas 1.0. You can get the original 'naturalearth_cities' data from https://www.naturalearthdata.com/downloads/110m-cultural-vectors/.\n",
      "  city_data = gpd.read_file(gpd.datasets.get_path('naturalearth_cities'))\n"
     ]
    }
   ],
   "source": [
    "city_data = gpd.read_file(gpd.datasets.get_path('naturalearth_cities'))"
   ]
  },
  {
   "cell_type": "code",
   "execution_count": 6,
   "id": "990a130e-5f04-48cd-a797-ed8577be33b6",
   "metadata": {},
   "outputs": [
    {
     "name": "stderr",
     "output_type": "stream",
     "text": [
      "C:\\Users\\hurwi\\AppData\\Local\\Temp\\ipykernel_4832\\3432786234.py:1: FutureWarning: The geopandas.dataset module is deprecated and will be removed in GeoPandas 1.0. You can get the original 'naturalearth_lowres' data from https://www.naturalearthdata.com/downloads/110m-cultural-vectors/.\n",
      "  world_data = gpd.read_file(gpd.datasets.get_path('naturalearth_lowres'))\n"
     ]
    }
   ],
   "source": [
    "world_data = gpd.read_file(gpd.datasets.get_path('naturalearth_lowres'))"
   ]
  },
  {
   "cell_type": "code",
   "execution_count": 7,
   "id": "c95a2182-fd70-4d56-a7fe-359d4353fc4a",
   "metadata": {},
   "outputs": [
    {
     "data": {
      "text/plain": [
       "geopandas.geodataframe.GeoDataFrame"
      ]
     },
     "execution_count": 7,
     "metadata": {},
     "output_type": "execute_result"
    }
   ],
   "source": [
    "type(city_data)"
   ]
  },
  {
   "cell_type": "code",
   "execution_count": 8,
   "id": "a3ce1257-6362-4e76-8297-98093add7971",
   "metadata": {},
   "outputs": [
    {
     "data": {
      "text/plain": [
       "<Axes: >"
      ]
     },
     "execution_count": 8,
     "metadata": {},
     "output_type": "execute_result"
    },
    {
     "data": {
      "image/png": "[encoded data removed]",
      "text/plain": [
       "<Figure size 640x480 with 1 Axes>"
      ]
     },
     "metadata": {},
     "output_type": "display_data"
    }
   ],
   "source": [
    "city_data.plot()"
   ]
  },
  {
   "cell_type": "code",
   "execution_count": 9,
   "id": "9d316488-4aa4-4a78-980c-2e590d87f5b7",
   "metadata": {},
   "outputs": [
    {
     "data": {
      "text/plain": [
       "<Axes: >"
      ]
     },
     "execution_count": 9,
     "metadata": {},
     "output_type": "execute_result"
    },
    {
     "data": {
      "image/png": "[encoded data removed]",
      "text/plain": [
       "<Figure size 640x480 with 1 Axes>"
      ]
     },
     "metadata": {},
     "output_type": "display_data"
    }
   ],
   "source": [
    "world_data.plot()"
   ]
  },
  {
   "cell_type": "markdown",
   "id": "e6173c66-1fa6-4738-8d3a-fea37fa2442c",
   "metadata": {},
   "source": [
    "OK, so those are basic country plots. not quite so detailed as I'd like"
   ]
  },
  {
   "cell_type": "markdown",
   "id": "15ba5db8-06c6-4b6c-8262-fe62deeb8f54",
   "metadata": {},
   "source": [
    "## Explore naturalearth maps"
   ]
  },
  {
   "cell_type": "code",
   "execution_count": 10,
   "id": "44a8e717-f79f-4ebf-8d0f-4b2a8dbfc060",
   "metadata": {},
   "outputs": [
    {
     "data": {
      "text/plain": [
       "Index(['pop_est', 'continent', 'name', 'iso_a3', 'gdp_md_est', 'geometry'], dtype='object')"
      ]
     },
     "execution_count": 10,
     "metadata": {},
     "output_type": "execute_result"
    }
   ],
   "source": [
    "world_data.columns"
   ]
  },
  {
   "cell_type": "code",
   "execution_count": 11,
   "id": "f54350ef-65b0-4dc6-bedf-a18f116b96f3",
   "metadata": {},
   "outputs": [
    {
     "data": {
      "text/html": [
       "<div>\n",
       "<style scoped>\n",
       "    .dataframe tbody tr th:only-of-type {\n",
       "        vertical-align: middle;\n",
       "    }\n",
       "\n",
       "    .dataframe tbody tr th {\n",
       "        vertical-align: top;\n",
       "    }\n",
       "\n",
       "    .dataframe thead th {\n",
       "        text-align: right;\n",
       "    }\n",
       "</style>\n",
       "<table border=\"1\" class=\"dataframe\">\n",
       "  <thead>\n",
       "    <tr style=\"text-align: right;\">\n",
       "      <th></th>\n",
       "      <th>pop_est</th>\n",
       "      <th>continent</th>\n",
       "      <th>name</th>\n",
       "      <th>iso_a3</th>\n",
       "      <th>gdp_md_est</th>\n",
       "      <th>geometry</th>\n",
       "    </tr>\n",
       "  </thead>\n",
       "  <tbody>\n",
       "    <tr>\n",
       "      <th>0</th>\n",
       "      <td>889953.0</td>\n",
       "      <td>Oceania</td>\n",
       "      <td>Fiji</td>\n",
       "      <td>FJI</td>\n",
       "      <td>5496</td>\n",
       "      <td>MULTIPOLYGON (((180.00000 -16.06713, 180.00000...</td>\n",
       "    </tr>\n",
       "    <tr>\n",
       "      <th>1</th>\n",
       "      <td>58005463.0</td>\n",
       "      <td>Africa</td>\n",
       "      <td>Tanzania</td>\n",
       "      <td>TZA</td>\n",
       "      <td>63177</td>\n",
       "      <td>POLYGON ((33.90371 -0.95000, 34.07262 -1.05982...</td>\n",
       "    </tr>\n",
       "    <tr>\n",
       "      <th>2</th>\n",
       "      <td>603253.0</td>\n",
       "      <td>Africa</td>\n",
       "      <td>W. Sahara</td>\n",
       "      <td>ESH</td>\n",
       "      <td>907</td>\n",
       "      <td>POLYGON ((-8.66559 27.65643, -8.66512 27.58948...</td>\n",
       "    </tr>\n",
       "    <tr>\n",
       "      <th>3</th>\n",
       "      <td>37589262.0</td>\n",
       "      <td>North America</td>\n",
       "      <td>Canada</td>\n",
       "      <td>CAN</td>\n",
       "      <td>1736425</td>\n",
       "      <td>MULTIPOLYGON (((-122.84000 49.00000, -122.9742...</td>\n",
       "    </tr>\n",
       "    <tr>\n",
       "      <th>4</th>\n",
       "      <td>328239523.0</td>\n",
       "      <td>North America</td>\n",
       "      <td>United States of America</td>\n",
       "      <td>USA</td>\n",
       "      <td>21433226</td>\n",
       "      <td>MULTIPOLYGON (((-122.84000 49.00000, -120.0000...</td>\n",
       "    </tr>\n",
       "  </tbody>\n",
       "</table>\n",
       "</div>"
      ],
      "text/plain": [
       "       pop_est      continent                      name iso_a3  gdp_md_est  \\\n",
       "0     889953.0        Oceania                      Fiji    FJI        5496   \n",
       "1   58005463.0         Africa                  Tanzania    TZA       63177   \n",
       "2     603253.0         Africa                 W. Sahara    ESH         907   \n",
       "3   37589262.0  North America                    Canada    CAN     1736425   \n",
       "4  328239523.0  North America  United States of America    USA    21433226   \n",
       "\n",
       "                                            geometry  \n",
       "0  MULTIPOLYGON (((180.00000 -16.06713, 180.00000...  \n",
       "1  POLYGON ((33.90371 -0.95000, 34.07262 -1.05982...  \n",
       "2  POLYGON ((-8.66559 27.65643, -8.66512 27.58948...  \n",
       "3  MULTIPOLYGON (((-122.84000 49.00000, -122.9742...  \n",
       "4  MULTIPOLYGON (((-122.84000 49.00000, -120.0000...  "
      ]
     },
     "execution_count": 11,
     "metadata": {},
     "output_type": "execute_result"
    }
   ],
   "source": [
    "world_data.head()"
   ]
  },
  {
   "cell_type": "code",
   "execution_count": 12,
   "id": "607214f1-3009-4fa5-8c90-1d6fc23a6dd8",
   "metadata": {},
   "outputs": [
    {
     "data": {
      "text/plain": [
       "['South Africa', 'Central African Rep.']"
      ]
     },
     "execution_count": 12,
     "metadata": {},
     "output_type": "execute_result"
    }
   ],
   "source": [
    "SAName = [N for N in world_data.name.unique() if 'Africa' in N]\n",
    "SAName"
   ]
  },
  {
   "cell_type": "code",
   "execution_count": 13,
   "id": "51fee593-fcdb-40d1-87a6-b1b20abd2aec",
   "metadata": {},
   "outputs": [
    {
     "data": {
      "text/plain": [
       "<Axes: >"
      ]
     },
     "execution_count": 13,
     "metadata": {},
     "output_type": "execute_result"
    },
    {
     "data": {
      "image/png": "[encoded data removed]",
      "text/plain": [
       "<Figure size 640x480 with 1 Axes>"
      ]
     },
     "metadata": {},
     "output_type": "display_data"
    }
   ],
   "source": [
    "world_data[world_data.name == SAName[0]].plot()"
   ]
  },
  {
   "cell_type": "markdown",
   "id": "ee388b04-6c36-4ed0-9dd5-6dcda1152c8b",
   "metadata": {},
   "source": [
    "OK, there are slightly more detailed maps in naturalearth, but honestly they're not great...<br>\n",
    "let's see how good / bad using the google api is"
   ]
  },
  {
   "cell_type": "markdown",
   "id": "20626762-efc4-4cc4-89cb-7f8e4ab01643",
   "metadata": {},
   "source": [
    "## Google api"
   ]
  },
  {
   "cell_type": "markdown",
   "id": "6011ac65-97c2-4413-a4c9-8b65bce810ed",
   "metadata": {},
   "source": [
    "### basic map"
   ]
  },
  {
   "cell_type": "code",
   "execution_count": 16,
   "id": "6042f398-8830-4326-ab05-4a41042d9a53",
   "metadata": {},
   "outputs": [
    {
     "data": {
      "text/html": [
       "<div style=\"width:100%;\"><div style=\"position:relative;width:100%;height:0;padding-bottom:60%;\"><span style=\"color:#565656\">Make this Notebook Trusted to load map: File -> Trust Notebook</span><iframe srcdoc=\"&lt;!DOCTYPE html&gt;\n",
       "&lt;html&gt;\n",
       "&lt;head&gt;\n",
       "    \n",
       "    &lt;meta http-equiv=&quot;content-type&quot; content=&quot;text/html; charset=UTF-8&quot; /&gt;\n",
       "    \n",
       "        &lt;script&gt;\n",
       "            L_NO_TOUCH = false;\n",
       "            L_DISABLE_3D = false;\n",
       "        &lt;/script&gt;\n",
       "    \n",
       "    &lt;style&gt;html, body {width: 100%;height: 100%;margin: 0;padding: 0;}&lt;/style&gt;\n",
       "    &lt;style&gt;#map {position:absolute;top:0;bottom:0;right:0;left:0;}&lt;/style&gt;\n",
       "    &lt;script src=&quot;https://cdn.jsdelivr.net/npm/leaflet@1.9.3/dist/leaflet.js&quot;&gt;&lt;/script&gt;\n",
       "    &lt;script src=&quot;https://code.jquery.com/jquery-3.7.1.min.js&quot;&gt;&lt;/script&gt;\n",
       "    &lt;script src=&quot;https://cdn.jsdelivr.net/npm/bootstrap@5.2.2/dist/js/bootstrap.bundle.min.js&quot;&gt;&lt;/script&gt;\n",
       "    &lt;script src=&quot;https://cdnjs.cloudflare.com/ajax/libs/Leaflet.awesome-markers/2.0.2/leaflet.awesome-markers.js&quot;&gt;&lt;/script&gt;\n",
       "    &lt;link rel=&quot;stylesheet&quot; href=&quot;https://cdn.jsdelivr.net/npm/leaflet@1.9.3/dist/leaflet.css&quot;/&gt;\n",
       "    &lt;link rel=&quot;stylesheet&quot; href=&quot;https://cdn.jsdelivr.net/npm/bootstrap@5.2.2/dist/css/bootstrap.min.css&quot;/&gt;\n",
       "    &lt;link rel=&quot;stylesheet&quot; href=&quot;https://netdna.bootstrapcdn.com/bootstrap/3.0.0/css/bootstrap.min.css&quot;/&gt;\n",
       "    &lt;link rel=&quot;stylesheet&quot; href=&quot;https://cdn.jsdelivr.net/npm/@fortawesome/fontawesome-free@6.2.0/css/all.min.css&quot;/&gt;\n",
       "    &lt;link rel=&quot;stylesheet&quot; href=&quot;https://cdnjs.cloudflare.com/ajax/libs/Leaflet.awesome-markers/2.0.2/leaflet.awesome-markers.css&quot;/&gt;\n",
       "    &lt;link rel=&quot;stylesheet&quot; href=&quot;https://cdn.jsdelivr.net/gh/python-visualization/folium/folium/templates/leaflet.awesome.rotate.min.css&quot;/&gt;\n",
       "    \n",
       "            &lt;meta name=&quot;viewport&quot; content=&quot;width=device-width,\n",
       "                initial-scale=1.0, maximum-scale=1.0, user-scalable=no&quot; /&gt;\n",
       "            &lt;style&gt;\n",
       "                #map_99e46df10cd9c7a8a09d078bf3eca282 {\n",
       "                    position: relative;\n",
       "                    width: 100.0%;\n",
       "                    height: 100.0%;\n",
       "                    left: 0.0%;\n",
       "                    top: 0.0%;\n",
       "                }\n",
       "                .leaflet-container { font-size: 1rem; }\n",
       "            &lt;/style&gt;\n",
       "        \n",
       "&lt;/head&gt;\n",
       "&lt;body&gt;\n",
       "    \n",
       "    \n",
       "            &lt;div class=&quot;folium-map&quot; id=&quot;map_99e46df10cd9c7a8a09d078bf3eca282&quot; &gt;&lt;/div&gt;\n",
       "        \n",
       "&lt;/body&gt;\n",
       "&lt;script&gt;\n",
       "    \n",
       "    \n",
       "            var map_99e46df10cd9c7a8a09d078bf3eca282 = L.map(\n",
       "                &quot;map_99e46df10cd9c7a8a09d078bf3eca282&quot;,\n",
       "                {\n",
       "                    center: [21.39, 84.29],\n",
       "                    crs: L.CRS.EPSG3857,\n",
       "                    zoom: 13,\n",
       "                    zoomControl: true,\n",
       "                    preferCanvas: false,\n",
       "                }\n",
       "            );\n",
       "\n",
       "            \n",
       "\n",
       "        \n",
       "    \n",
       "            var tile_layer_29d69d9c5068db96ec07cc5113776820 = L.tileLayer(\n",
       "                &quot;https://tile.openstreetmap.org/{z}/{x}/{y}.png&quot;,\n",
       "                {&quot;attribution&quot;: &quot;\\u0026copy; \\u003ca href=\\&quot;https://www.openstreetmap.org/copyright\\&quot;\\u003eOpenStreetMap\\u003c/a\\u003e contributors&quot;, &quot;detectRetina&quot;: false, &quot;maxNativeZoom&quot;: 19, &quot;maxZoom&quot;: 19, &quot;minZoom&quot;: 0, &quot;noWrap&quot;: false, &quot;opacity&quot;: 1, &quot;subdomains&quot;: &quot;abc&quot;, &quot;tms&quot;: false}\n",
       "            );\n",
       "        \n",
       "    \n",
       "            tile_layer_29d69d9c5068db96ec07cc5113776820.addTo(map_99e46df10cd9c7a8a09d078bf3eca282);\n",
       "        \n",
       "&lt;/script&gt;\n",
       "&lt;/html&gt;\" style=\"position:absolute;width:100%;height:100%;left:0;top:0;border:none !important;\" allowfullscreen webkitallowfullscreen mozallowfullscreen></iframe></div></div>"
      ],
      "text/plain": [
       "<folium.folium.Map at 0x21653212590>"
      ]
     },
     "execution_count": 16,
     "metadata": {},
     "output_type": "execute_result"
    }
   ],
   "source": [
    "map = folium.Map(location=[21.39, 84.29], zoom_start = 13)\n",
    "map"
   ]
  },
  {
   "cell_type": "markdown",
   "id": "6d3ee0c2-4595-4ded-b54c-90c07f780c7d",
   "metadata": {},
   "source": [
    "OK, that's pretty neat! <br>\n",
    "<br>\n",
    "let's see if we can find a location from our dataset"
   ]
  },
  {
   "cell_type": "markdown",
   "id": "83e244ca-414d-4da4-914b-63ed27dd9643",
   "metadata": {},
   "source": [
    "### save map to file"
   ]
  },
  {
   "cell_type": "code",
   "execution_count": 25,
   "id": "25cdbb73-4422-41ef-8f56-0b4b2fc5c5d7",
   "metadata": {},
   "outputs": [],
   "source": [
    "TEST_MAP_FILE = './WorkingData/Maps/testgooglemap.png'"
   ]
  },
  {
   "cell_type": "code",
   "execution_count": null,
   "id": "098416e5-2114-4a93-8da0-b8aba4869b2b",
   "metadata": {},
   "outputs": [],
   "source": []
  },
  {
   "cell_type": "code",
   "execution_count": 24,
   "id": "774295dd-44d1-46a8-9fd7-740dd4af3b9a",
   "metadata": {},
   "outputs": [],
   "source": [
    "img_data = map._to_png(5)\n",
    "img = Image.open(io.BytesIO(img_data))\n",
    "img.save(TEST_MAP_FILE)"
   ]
  },
  {
   "cell_type": "markdown",
   "id": "475fe261-e2f9-47b0-97a6-1985d1487765",
   "metadata": {},
   "source": [
    "![test file](WorkingData/Maps/testgooglemap.png)"
   ]
  },
  {
   "cell_type": "markdown",
   "id": "848ad759-05af-4918-9312-cf46ca3ae8a7",
   "metadata": {},
   "source": [
    "Well that's great!"
   ]
  },
  {
   "cell_type": "markdown",
   "id": "14037f5b-0a73-42ae-946e-fc4e2c4881a1",
   "metadata": {},
   "source": [
    "### Our data points?"
   ]
  },
  {
   "cell_type": "markdown",
   "id": "9b8f6c59-e53f-4b2b-81ac-766025e4e2a6",
   "metadata": {},
   "source": [
    "lets get the map of RSA"
   ]
  },
  {
   "cell_type": "code",
   "execution_count": 32,
   "id": "4f61898f-b891-4260-a1d3-8f50bfbb397b",
   "metadata": {
    "scrolled": true
   },
   "outputs": [
    {
     "data": {
      "text/html": [
       "<div>\n",
       "<style scoped>\n",
       "    .dataframe tbody tr th:only-of-type {\n",
       "        vertical-align: middle;\n",
       "    }\n",
       "\n",
       "    .dataframe tbody tr th {\n",
       "        vertical-align: top;\n",
       "    }\n",
       "\n",
       "    .dataframe thead th {\n",
       "        text-align: right;\n",
       "    }\n",
       "</style>\n",
       "<table border=\"1\" class=\"dataframe\">\n",
       "  <thead>\n",
       "    <tr style=\"text-align: right;\">\n",
       "      <th></th>\n",
       "      <th>Site</th>\n",
       "      <th>Longitude</th>\n",
       "      <th>Latitude</th>\n",
       "      <th>Total Land Price (R)</th>\n",
       "    </tr>\n",
       "  </thead>\n",
       "  <tbody>\n",
       "    <tr>\n",
       "      <th>0</th>\n",
       "      <td>Berea Switch</td>\n",
       "      <td>S29 51.443</td>\n",
       "      <td>E31 00.381</td>\n",
       "      <td>7.224778e+07</td>\n",
       "    </tr>\n",
       "    <tr>\n",
       "      <th>1</th>\n",
       "      <td>Bloemfontein Switch</td>\n",
       "      <td>S29 06.934</td>\n",
       "      <td>E26 13.174</td>\n",
       "      <td>2.078264e+07</td>\n",
       "    </tr>\n",
       "    <tr>\n",
       "      <th>2</th>\n",
       "      <td>Cape Town Switch</td>\n",
       "      <td>S33 55.810</td>\n",
       "      <td>E18 25.321</td>\n",
       "      <td>2.259380e+07</td>\n",
       "    </tr>\n",
       "    <tr>\n",
       "      <th>3</th>\n",
       "      <td>Centurion</td>\n",
       "      <td>S25 54.584</td>\n",
       "      <td>E28 10.206</td>\n",
       "      <td>2.325816e+08</td>\n",
       "    </tr>\n",
       "    <tr>\n",
       "      <th>4</th>\n",
       "      <td>Doornfontein</td>\n",
       "      <td>S26 11.783</td>\n",
       "      <td>E28 03.333</td>\n",
       "      <td>4.646761e+08</td>\n",
       "    </tr>\n",
       "  </tbody>\n",
       "</table>\n",
       "</div>"
      ],
      "text/plain": [
       "                    Site   Longitude    Latitude  Total Land Price (R)\n",
       "0         Berea Switch    S29 51.443  E31 00.381          7.224778e+07\n",
       "1  Bloemfontein Switch    S29 06.934  E26 13.174          2.078264e+07\n",
       "2     Cape Town Switch    S33 55.810  E18 25.321          2.259380e+07\n",
       "3             Centurion   S25 54.584  E28 10.206          2.325816e+08\n",
       "4  Doornfontein           S26 11.783  E28 03.333          4.646761e+08"
      ]
     },
     "execution_count": 32,
     "metadata": {},
     "output_type": "execute_result"
    }
   ],
   "source": [
    "df.head()"
   ]
  },
  {
   "cell_type": "code",
   "execution_count": 34,
   "id": "7d4bd2a4-474c-403d-99ed-1fa10dbea739",
   "metadata": {},
   "outputs": [
    {
     "data": {
      "text/plain": [
       "['S29 51.443', 'E31 00.381']"
      ]
     },
     "execution_count": 34,
     "metadata": {},
     "output_type": "execute_result"
    }
   ],
   "source": [
    "point = [df.iloc[0, 1], df.iloc[0, 2]]\n",
    "point"
   ]
  },
  {
   "cell_type": "code",
   "execution_count": 80,
   "id": "ba3151f7-1f2b-418a-9188-63fc0884e4d7",
   "metadata": {},
   "outputs": [
    {
     "data": {
      "text/plain": [
       "['S29 06.934', 'E26 13.174']"
      ]
     },
     "execution_count": 80,
     "metadata": {},
     "output_type": "execute_result"
    }
   ],
   "source": [
    "point2 = [df.iloc[1, 1], df.iloc[1, 2]]\n",
    "label2 = df.iloc[1,0]\n",
    "point2"
   ]
  },
  {
   "cell_type": "markdown",
   "id": "6e7b8033-dabe-41a1-b6fa-0e92dd268dc1",
   "metadata": {},
   "source": [
    "#### Base SA map"
   ]
  },
  {
   "cell_type": "code",
   "execution_count": 88,
   "id": "026e1b52-ea36-46c0-8bf8-c939f902c4f0",
   "metadata": {},
   "outputs": [
    {
     "data": {
      "text/html": [
       "<div style=\"width:100%;\"><div style=\"position:relative;width:100%;height:0;padding-bottom:60%;\"><span style=\"color:#565656\">Make this Notebook Trusted to load map: File -> Trust Notebook</span><iframe srcdoc=\"&lt;!DOCTYPE html&gt;\n",
       "&lt;html&gt;\n",
       "&lt;head&gt;\n",
       "    \n",
       "    &lt;meta http-equiv=&quot;content-type&quot; content=&quot;text/html; charset=UTF-8&quot; /&gt;\n",
       "    \n",
       "        &lt;script&gt;\n",
       "            L_NO_TOUCH = false;\n",
       "            L_DISABLE_3D = false;\n",
       "        &lt;/script&gt;\n",
       "    \n",
       "    &lt;style&gt;html, body {width: 100%;height: 100%;margin: 0;padding: 0;}&lt;/style&gt;\n",
       "    &lt;style&gt;#map {position:absolute;top:0;bottom:0;right:0;left:0;}&lt;/style&gt;\n",
       "    &lt;script src=&quot;https://cdn.jsdelivr.net/npm/leaflet@1.9.3/dist/leaflet.js&quot;&gt;&lt;/script&gt;\n",
       "    &lt;script src=&quot;https://code.jquery.com/jquery-3.7.1.min.js&quot;&gt;&lt;/script&gt;\n",
       "    &lt;script src=&quot;https://cdn.jsdelivr.net/npm/bootstrap@5.2.2/dist/js/bootstrap.bundle.min.js&quot;&gt;&lt;/script&gt;\n",
       "    &lt;script src=&quot;https://cdnjs.cloudflare.com/ajax/libs/Leaflet.awesome-markers/2.0.2/leaflet.awesome-markers.js&quot;&gt;&lt;/script&gt;\n",
       "    &lt;link rel=&quot;stylesheet&quot; href=&quot;https://cdn.jsdelivr.net/npm/leaflet@1.9.3/dist/leaflet.css&quot;/&gt;\n",
       "    &lt;link rel=&quot;stylesheet&quot; href=&quot;https://cdn.jsdelivr.net/npm/bootstrap@5.2.2/dist/css/bootstrap.min.css&quot;/&gt;\n",
       "    &lt;link rel=&quot;stylesheet&quot; href=&quot;https://netdna.bootstrapcdn.com/bootstrap/3.0.0/css/bootstrap.min.css&quot;/&gt;\n",
       "    &lt;link rel=&quot;stylesheet&quot; href=&quot;https://cdn.jsdelivr.net/npm/@fortawesome/fontawesome-free@6.2.0/css/all.min.css&quot;/&gt;\n",
       "    &lt;link rel=&quot;stylesheet&quot; href=&quot;https://cdnjs.cloudflare.com/ajax/libs/Leaflet.awesome-markers/2.0.2/leaflet.awesome-markers.css&quot;/&gt;\n",
       "    &lt;link rel=&quot;stylesheet&quot; href=&quot;https://cdn.jsdelivr.net/gh/python-visualization/folium/folium/templates/leaflet.awesome.rotate.min.css&quot;/&gt;\n",
       "    \n",
       "            &lt;meta name=&quot;viewport&quot; content=&quot;width=device-width,\n",
       "                initial-scale=1.0, maximum-scale=1.0, user-scalable=no&quot; /&gt;\n",
       "            &lt;style&gt;\n",
       "                #map_b1b43151a7612ad8eaf7684434673eef {\n",
       "                    position: relative;\n",
       "                    width: 100.0%;\n",
       "                    height: 100.0%;\n",
       "                    left: 0.0%;\n",
       "                    top: 0.0%;\n",
       "                }\n",
       "                .leaflet-container { font-size: 1rem; }\n",
       "            &lt;/style&gt;\n",
       "        \n",
       "&lt;/head&gt;\n",
       "&lt;body&gt;\n",
       "    \n",
       "    \n",
       "            &lt;div class=&quot;folium-map&quot; id=&quot;map_b1b43151a7612ad8eaf7684434673eef&quot; &gt;&lt;/div&gt;\n",
       "        \n",
       "&lt;/body&gt;\n",
       "&lt;script&gt;\n",
       "    \n",
       "    \n",
       "            var map_b1b43151a7612ad8eaf7684434673eef = L.map(\n",
       "                &quot;map_b1b43151a7612ad8eaf7684434673eef&quot;,\n",
       "                {\n",
       "                    center: [-29.0, 25.0],\n",
       "                    crs: L.CRS.EPSG3857,\n",
       "                    zoom: 6,\n",
       "                    zoomControl: true,\n",
       "                    preferCanvas: false,\n",
       "                }\n",
       "            );\n",
       "\n",
       "            \n",
       "\n",
       "        \n",
       "    \n",
       "            var tile_layer_69a1ef0c49479cc9e3aaed68806af9f9 = L.tileLayer(\n",
       "                &quot;https://tile.openstreetmap.org/{z}/{x}/{y}.png&quot;,\n",
       "                {&quot;attribution&quot;: &quot;\\u0026copy; \\u003ca href=\\&quot;https://www.openstreetmap.org/copyright\\&quot;\\u003eOpenStreetMap\\u003c/a\\u003e contributors&quot;, &quot;detectRetina&quot;: false, &quot;maxNativeZoom&quot;: 19, &quot;maxZoom&quot;: 19, &quot;minZoom&quot;: 0, &quot;noWrap&quot;: false, &quot;opacity&quot;: 1, &quot;subdomains&quot;: &quot;abc&quot;, &quot;tms&quot;: false}\n",
       "            );\n",
       "        \n",
       "    \n",
       "            tile_layer_69a1ef0c49479cc9e3aaed68806af9f9.addTo(map_b1b43151a7612ad8eaf7684434673eef);\n",
       "        \n",
       "&lt;/script&gt;\n",
       "&lt;/html&gt;\" style=\"position:absolute;width:100%;height:100%;left:0;top:0;border:none !important;\" allowfullscreen webkitallowfullscreen mozallowfullscreen></iframe></div></div>"
      ],
      "text/plain": [
       "<folium.folium.Map at 0x21656e69990>"
      ]
     },
     "execution_count": 88,
     "metadata": {},
     "output_type": "execute_result"
    }
   ],
   "source": [
    "my_map = folium.Map(location=[-29, 25], zoom_start=6)\n",
    "my_map"
   ]
  },
  {
   "cell_type": "markdown",
   "id": "1745cd31-f3b1-4e60-80d2-75c7a11aec11",
   "metadata": {},
   "source": [
    "#### create points / markers"
   ]
  },
  {
   "cell_type": "code",
   "execution_count": 89,
   "id": "abd6a4d0-f074-4bda-a20b-0beccf9b49e9",
   "metadata": {},
   "outputs": [],
   "source": [
    "def convert_to_coordinates (in_str: str):\n",
    "\n",
    "    compass = in_str[0]\n",
    "    if compass in ['W', 'S']:\n",
    "        negative = True\n",
    "    else:\n",
    "        negative = False\n",
    "    S = in_str[1:]\n",
    "    S_deg, S_min = S.split(' ')\n",
    "    deg = float(S_deg)\n",
    "    min = float(S_min)\n",
    "    if negative:\n",
    "        deg *= -1\n",
    "        min *= -1\n",
    "\n",
    "    result = deg + min/60\n",
    "    \n",
    "    return result"
   ]
  },
  {
   "cell_type": "code",
   "execution_count": 90,
   "id": "02ce6fc4-17fb-452a-a6e9-74404154864d",
   "metadata": {},
   "outputs": [],
   "source": [
    "def to_coords (string_point):\n",
    "\n",
    "    out = [convert_to_coordinates(point) for point in string_point]\n",
    "    return out"
   ]
  },
  {
   "cell_type": "code",
   "execution_count": 91,
   "id": "37101627-f865-46c1-a34e-2f70490820e1",
   "metadata": {},
   "outputs": [
    {
     "data": {
      "text/plain": [
       "[-29.857383333333335, 31.00635]"
      ]
     },
     "execution_count": 91,
     "metadata": {},
     "output_type": "execute_result"
    }
   ],
   "source": [
    "to_coords(point)"
   ]
  },
  {
   "cell_type": "code",
   "execution_count": 92,
   "id": "11d80d31-954c-4f0d-9044-0ff4149ec304",
   "metadata": {},
   "outputs": [
    {
     "data": {
      "text/html": [
       "<div style=\"width:100%;\"><div style=\"position:relative;width:100%;height:0;padding-bottom:60%;\"><span style=\"color:#565656\">Make this Notebook Trusted to load map: File -> Trust Notebook</span><iframe srcdoc=\"&lt;!DOCTYPE html&gt;\n",
       "&lt;html&gt;\n",
       "&lt;head&gt;\n",
       "    \n",
       "    &lt;meta http-equiv=&quot;content-type&quot; content=&quot;text/html; charset=UTF-8&quot; /&gt;\n",
       "    \n",
       "        &lt;script&gt;\n",
       "            L_NO_TOUCH = false;\n",
       "            L_DISABLE_3D = false;\n",
       "        &lt;/script&gt;\n",
       "    \n",
       "    &lt;style&gt;html, body {width: 100%;height: 100%;margin: 0;padding: 0;}&lt;/style&gt;\n",
       "    &lt;style&gt;#map {position:absolute;top:0;bottom:0;right:0;left:0;}&lt;/style&gt;\n",
       "    &lt;script src=&quot;https://cdn.jsdelivr.net/npm/leaflet@1.9.3/dist/leaflet.js&quot;&gt;&lt;/script&gt;\n",
       "    &lt;script src=&quot;https://code.jquery.com/jquery-3.7.1.min.js&quot;&gt;&lt;/script&gt;\n",
       "    &lt;script src=&quot;https://cdn.jsdelivr.net/npm/bootstrap@5.2.2/dist/js/bootstrap.bundle.min.js&quot;&gt;&lt;/script&gt;\n",
       "    &lt;script src=&quot;https://cdnjs.cloudflare.com/ajax/libs/Leaflet.awesome-markers/2.0.2/leaflet.awesome-markers.js&quot;&gt;&lt;/script&gt;\n",
       "    &lt;link rel=&quot;stylesheet&quot; href=&quot;https://cdn.jsdelivr.net/npm/leaflet@1.9.3/dist/leaflet.css&quot;/&gt;\n",
       "    &lt;link rel=&quot;stylesheet&quot; href=&quot;https://cdn.jsdelivr.net/npm/bootstrap@5.2.2/dist/css/bootstrap.min.css&quot;/&gt;\n",
       "    &lt;link rel=&quot;stylesheet&quot; href=&quot;https://netdna.bootstrapcdn.com/bootstrap/3.0.0/css/bootstrap.min.css&quot;/&gt;\n",
       "    &lt;link rel=&quot;stylesheet&quot; href=&quot;https://cdn.jsdelivr.net/npm/@fortawesome/fontawesome-free@6.2.0/css/all.min.css&quot;/&gt;\n",
       "    &lt;link rel=&quot;stylesheet&quot; href=&quot;https://cdnjs.cloudflare.com/ajax/libs/Leaflet.awesome-markers/2.0.2/leaflet.awesome-markers.css&quot;/&gt;\n",
       "    &lt;link rel=&quot;stylesheet&quot; href=&quot;https://cdn.jsdelivr.net/gh/python-visualization/folium/folium/templates/leaflet.awesome.rotate.min.css&quot;/&gt;\n",
       "    \n",
       "            &lt;meta name=&quot;viewport&quot; content=&quot;width=device-width,\n",
       "                initial-scale=1.0, maximum-scale=1.0, user-scalable=no&quot; /&gt;\n",
       "            &lt;style&gt;\n",
       "                #map_b1b43151a7612ad8eaf7684434673eef {\n",
       "                    position: relative;\n",
       "                    width: 100.0%;\n",
       "                    height: 100.0%;\n",
       "                    left: 0.0%;\n",
       "                    top: 0.0%;\n",
       "                }\n",
       "                .leaflet-container { font-size: 1rem; }\n",
       "            &lt;/style&gt;\n",
       "        \n",
       "&lt;/head&gt;\n",
       "&lt;body&gt;\n",
       "    \n",
       "    \n",
       "            &lt;div class=&quot;folium-map&quot; id=&quot;map_b1b43151a7612ad8eaf7684434673eef&quot; &gt;&lt;/div&gt;\n",
       "        \n",
       "&lt;/body&gt;\n",
       "&lt;script&gt;\n",
       "    \n",
       "    \n",
       "            var map_b1b43151a7612ad8eaf7684434673eef = L.map(\n",
       "                &quot;map_b1b43151a7612ad8eaf7684434673eef&quot;,\n",
       "                {\n",
       "                    center: [-29.0, 25.0],\n",
       "                    crs: L.CRS.EPSG3857,\n",
       "                    zoom: 6,\n",
       "                    zoomControl: true,\n",
       "                    preferCanvas: false,\n",
       "                }\n",
       "            );\n",
       "\n",
       "            \n",
       "\n",
       "        \n",
       "    \n",
       "            var tile_layer_69a1ef0c49479cc9e3aaed68806af9f9 = L.tileLayer(\n",
       "                &quot;https://tile.openstreetmap.org/{z}/{x}/{y}.png&quot;,\n",
       "                {&quot;attribution&quot;: &quot;\\u0026copy; \\u003ca href=\\&quot;https://www.openstreetmap.org/copyright\\&quot;\\u003eOpenStreetMap\\u003c/a\\u003e contributors&quot;, &quot;detectRetina&quot;: false, &quot;maxNativeZoom&quot;: 19, &quot;maxZoom&quot;: 19, &quot;minZoom&quot;: 0, &quot;noWrap&quot;: false, &quot;opacity&quot;: 1, &quot;subdomains&quot;: &quot;abc&quot;, &quot;tms&quot;: false}\n",
       "            );\n",
       "        \n",
       "    \n",
       "            tile_layer_69a1ef0c49479cc9e3aaed68806af9f9.addTo(map_b1b43151a7612ad8eaf7684434673eef);\n",
       "        \n",
       "    \n",
       "            tile_layer_69a1ef0c49479cc9e3aaed68806af9f9.addTo(map_b1b43151a7612ad8eaf7684434673eef);\n",
       "        \n",
       "    \n",
       "            var marker_4b41f68d9d9b3038a0977f7c14cb3da0 = L.marker(\n",
       "                [-29.857383333333335, 31.00635],\n",
       "                {}\n",
       "            ).addTo(map_b1b43151a7612ad8eaf7684434673eef);\n",
       "        \n",
       "    \n",
       "        var popup_50d62e0a692bd6c91034a46b2c64b47d = L.popup({&quot;maxWidth&quot;: &quot;100%&quot;});\n",
       "\n",
       "        \n",
       "            \n",
       "                var html_aa039cf1213804c58fcc3ced31018337 = $(`&lt;div id=&quot;html_aa039cf1213804c58fcc3ced31018337&quot; style=&quot;width: 100.0%; height: 100.0%;&quot;&gt;Berea Switch&lt;/div&gt;`)[0];\n",
       "                popup_50d62e0a692bd6c91034a46b2c64b47d.setContent(html_aa039cf1213804c58fcc3ced31018337);\n",
       "            \n",
       "        \n",
       "\n",
       "        marker_4b41f68d9d9b3038a0977f7c14cb3da0.bindPopup(popup_50d62e0a692bd6c91034a46b2c64b47d)\n",
       "        ;\n",
       "\n",
       "        \n",
       "    \n",
       "&lt;/script&gt;\n",
       "&lt;/html&gt;\" style=\"position:absolute;width:100%;height:100%;left:0;top:0;border:none !important;\" allowfullscreen webkitallowfullscreen mozallowfullscreen></iframe></div></div>"
      ],
      "text/plain": [
       "<folium.folium.Map at 0x21656e69990>"
      ]
     },
     "execution_count": 92,
     "metadata": {},
     "output_type": "execute_result"
    }
   ],
   "source": [
    "folium.Marker(to_coords(point), popup = 'Berea Switch').add_to(my_map)\n",
    "my_map"
   ]
  },
  {
   "cell_type": "markdown",
   "id": "64cbd055-cee8-4752-b722-314fc5e55e99",
   "metadata": {},
   "source": [
    "alternatively, a circle marker"
   ]
  },
  {
   "cell_type": "code",
   "execution_count": 96,
   "id": "2d757933-7710-44c4-aa52-bd05fd2ecfe9",
   "metadata": {},
   "outputs": [
    {
     "data": {
      "text/html": [
       "<div style=\"width:100%;\"><div style=\"position:relative;width:100%;height:0;padding-bottom:60%;\"><span style=\"color:#565656\">Make this Notebook Trusted to load map: File -> Trust Notebook</span><iframe srcdoc=\"&lt;!DOCTYPE html&gt;\n",
       "&lt;html&gt;\n",
       "&lt;head&gt;\n",
       "    \n",
       "    &lt;meta http-equiv=&quot;content-type&quot; content=&quot;text/html; charset=UTF-8&quot; /&gt;\n",
       "    \n",
       "        &lt;script&gt;\n",
       "            L_NO_TOUCH = false;\n",
       "            L_DISABLE_3D = false;\n",
       "        &lt;/script&gt;\n",
       "    \n",
       "    &lt;style&gt;html, body {width: 100%;height: 100%;margin: 0;padding: 0;}&lt;/style&gt;\n",
       "    &lt;style&gt;#map {position:absolute;top:0;bottom:0;right:0;left:0;}&lt;/style&gt;\n",
       "    &lt;script src=&quot;https://cdn.jsdelivr.net/npm/leaflet@1.9.3/dist/leaflet.js&quot;&gt;&lt;/script&gt;\n",
       "    &lt;script src=&quot;https://code.jquery.com/jquery-3.7.1.min.js&quot;&gt;&lt;/script&gt;\n",
       "    &lt;script src=&quot;https://cdn.jsdelivr.net/npm/bootstrap@5.2.2/dist/js/bootstrap.bundle.min.js&quot;&gt;&lt;/script&gt;\n",
       "    &lt;script src=&quot;https://cdnjs.cloudflare.com/ajax/libs/Leaflet.awesome-markers/2.0.2/leaflet.awesome-markers.js&quot;&gt;&lt;/script&gt;\n",
       "    &lt;link rel=&quot;stylesheet&quot; href=&quot;https://cdn.jsdelivr.net/npm/leaflet@1.9.3/dist/leaflet.css&quot;/&gt;\n",
       "    &lt;link rel=&quot;stylesheet&quot; href=&quot;https://cdn.jsdelivr.net/npm/bootstrap@5.2.2/dist/css/bootstrap.min.css&quot;/&gt;\n",
       "    &lt;link rel=&quot;stylesheet&quot; href=&quot;https://netdna.bootstrapcdn.com/bootstrap/3.0.0/css/bootstrap.min.css&quot;/&gt;\n",
       "    &lt;link rel=&quot;stylesheet&quot; href=&quot;https://cdn.jsdelivr.net/npm/@fortawesome/fontawesome-free@6.2.0/css/all.min.css&quot;/&gt;\n",
       "    &lt;link rel=&quot;stylesheet&quot; href=&quot;https://cdnjs.cloudflare.com/ajax/libs/Leaflet.awesome-markers/2.0.2/leaflet.awesome-markers.css&quot;/&gt;\n",
       "    &lt;link rel=&quot;stylesheet&quot; href=&quot;https://cdn.jsdelivr.net/gh/python-visualization/folium/folium/templates/leaflet.awesome.rotate.min.css&quot;/&gt;\n",
       "    \n",
       "            &lt;meta name=&quot;viewport&quot; content=&quot;width=device-width,\n",
       "                initial-scale=1.0, maximum-scale=1.0, user-scalable=no&quot; /&gt;\n",
       "            &lt;style&gt;\n",
       "                #map_b1b43151a7612ad8eaf7684434673eef {\n",
       "                    position: relative;\n",
       "                    width: 100.0%;\n",
       "                    height: 100.0%;\n",
       "                    left: 0.0%;\n",
       "                    top: 0.0%;\n",
       "                }\n",
       "                .leaflet-container { font-size: 1rem; }\n",
       "            &lt;/style&gt;\n",
       "        \n",
       "&lt;/head&gt;\n",
       "&lt;body&gt;\n",
       "    \n",
       "    \n",
       "            &lt;div class=&quot;folium-map&quot; id=&quot;map_b1b43151a7612ad8eaf7684434673eef&quot; &gt;&lt;/div&gt;\n",
       "        \n",
       "&lt;/body&gt;\n",
       "&lt;script&gt;\n",
       "    \n",
       "    \n",
       "            var map_b1b43151a7612ad8eaf7684434673eef = L.map(\n",
       "                &quot;map_b1b43151a7612ad8eaf7684434673eef&quot;,\n",
       "                {\n",
       "                    center: [-29.0, 25.0],\n",
       "                    crs: L.CRS.EPSG3857,\n",
       "                    zoom: 6,\n",
       "                    zoomControl: true,\n",
       "                    preferCanvas: false,\n",
       "                }\n",
       "            );\n",
       "\n",
       "            \n",
       "\n",
       "        \n",
       "    \n",
       "            var tile_layer_69a1ef0c49479cc9e3aaed68806af9f9 = L.tileLayer(\n",
       "                &quot;https://tile.openstreetmap.org/{z}/{x}/{y}.png&quot;,\n",
       "                {&quot;attribution&quot;: &quot;\\u0026copy; \\u003ca href=\\&quot;https://www.openstreetmap.org/copyright\\&quot;\\u003eOpenStreetMap\\u003c/a\\u003e contributors&quot;, &quot;detectRetina&quot;: false, &quot;maxNativeZoom&quot;: 19, &quot;maxZoom&quot;: 19, &quot;minZoom&quot;: 0, &quot;noWrap&quot;: false, &quot;opacity&quot;: 1, &quot;subdomains&quot;: &quot;abc&quot;, &quot;tms&quot;: false}\n",
       "            );\n",
       "        \n",
       "    \n",
       "            tile_layer_69a1ef0c49479cc9e3aaed68806af9f9.addTo(map_b1b43151a7612ad8eaf7684434673eef);\n",
       "        \n",
       "    \n",
       "            tile_layer_69a1ef0c49479cc9e3aaed68806af9f9.addTo(map_b1b43151a7612ad8eaf7684434673eef);\n",
       "        \n",
       "    \n",
       "            var marker_4b41f68d9d9b3038a0977f7c14cb3da0 = L.marker(\n",
       "                [-29.857383333333335, 31.00635],\n",
       "                {}\n",
       "            ).addTo(map_b1b43151a7612ad8eaf7684434673eef);\n",
       "        \n",
       "    \n",
       "        var popup_50d62e0a692bd6c91034a46b2c64b47d = L.popup({&quot;maxWidth&quot;: &quot;100%&quot;});\n",
       "\n",
       "        \n",
       "            \n",
       "                var html_aa039cf1213804c58fcc3ced31018337 = $(`&lt;div id=&quot;html_aa039cf1213804c58fcc3ced31018337&quot; style=&quot;width: 100.0%; height: 100.0%;&quot;&gt;Berea Switch&lt;/div&gt;`)[0];\n",
       "                popup_50d62e0a692bd6c91034a46b2c64b47d.setContent(html_aa039cf1213804c58fcc3ced31018337);\n",
       "            \n",
       "        \n",
       "\n",
       "        marker_4b41f68d9d9b3038a0977f7c14cb3da0.bindPopup(popup_50d62e0a692bd6c91034a46b2c64b47d)\n",
       "        ;\n",
       "\n",
       "        \n",
       "    \n",
       "    \n",
       "            tile_layer_69a1ef0c49479cc9e3aaed68806af9f9.addTo(map_b1b43151a7612ad8eaf7684434673eef);\n",
       "        \n",
       "    \n",
       "            var circle_marker_f7b01d6d9cc2cdbd08065c3cc7d37036 = L.circleMarker(\n",
       "                [-29.115566666666666, 26.219566666666665],\n",
       "                {&quot;bubblingMouseEvents&quot;: true, &quot;color&quot;: &quot;red&quot;, &quot;dashArray&quot;: null, &quot;dashOffset&quot;: null, &quot;fill&quot;: true, &quot;fillColor&quot;: &quot;red&quot;, &quot;fillOpacity&quot;: 0.2, &quot;fillRule&quot;: &quot;evenodd&quot;, &quot;lineCap&quot;: &quot;round&quot;, &quot;lineJoin&quot;: &quot;round&quot;, &quot;opacity&quot;: 1.0, &quot;radius&quot;: 10, &quot;stroke&quot;: true, &quot;weight&quot;: 3}\n",
       "            ).addTo(map_b1b43151a7612ad8eaf7684434673eef);\n",
       "        \n",
       "    \n",
       "            var marker_9f6c394b0867e1c29bc170607fa0c110 = L.marker(\n",
       "                [-29.115566666666666, 26.219566666666665],\n",
       "                {}\n",
       "            ).addTo(map_b1b43151a7612ad8eaf7684434673eef);\n",
       "        \n",
       "    \n",
       "            var div_icon_23a753fddfabcfd3326aac6bc0cc561f = L.divIcon({&quot;className&quot;: &quot;empty&quot;, &quot;html&quot;: &quot;\\u003cdiv style=\\&quot;font-size: 6pt\\&quot;\\u003eBloemfontein Switch\\u00a0 \\u003c/div\\u003e&quot;});\n",
       "            marker_9f6c394b0867e1c29bc170607fa0c110.setIcon(div_icon_23a753fddfabcfd3326aac6bc0cc561f);\n",
       "        \n",
       "    \n",
       "        var popup_706a7d288b4d513592c0803f453ad6a7 = L.popup({&quot;maxWidth&quot;: &quot;100%&quot;});\n",
       "\n",
       "        \n",
       "            \n",
       "                var html_2b8f3defcc62aa46e28c4c3122c0560e = $(`&lt;div id=&quot;html_2b8f3defcc62aa46e28c4c3122c0560e&quot; style=&quot;width: 100.0%; height: 100.0%;&quot;&gt;Bloemfontein Switch  &lt;/div&gt;`)[0];\n",
       "                popup_706a7d288b4d513592c0803f453ad6a7.setContent(html_2b8f3defcc62aa46e28c4c3122c0560e);\n",
       "            \n",
       "        \n",
       "\n",
       "        marker_9f6c394b0867e1c29bc170607fa0c110.bindPopup(popup_706a7d288b4d513592c0803f453ad6a7)\n",
       "        ;\n",
       "\n",
       "        \n",
       "    \n",
       "    \n",
       "            tile_layer_69a1ef0c49479cc9e3aaed68806af9f9.addTo(map_b1b43151a7612ad8eaf7684434673eef);\n",
       "        \n",
       "    \n",
       "            var circle_marker_84f0c2ad12bf5da871d05f5bbfa9c8f7 = L.circleMarker(\n",
       "                [-29.115566666666666, 26.219566666666665],\n",
       "                {&quot;bubblingMouseEvents&quot;: true, &quot;color&quot;: &quot;red&quot;, &quot;dashArray&quot;: null, &quot;dashOffset&quot;: null, &quot;fill&quot;: true, &quot;fillColor&quot;: &quot;red&quot;, &quot;fillOpacity&quot;: 0.2, &quot;fillRule&quot;: &quot;evenodd&quot;, &quot;lineCap&quot;: &quot;round&quot;, &quot;lineJoin&quot;: &quot;round&quot;, &quot;opacity&quot;: 1.0, &quot;radius&quot;: 10, &quot;stroke&quot;: true, &quot;weight&quot;: 3}\n",
       "            ).addTo(map_b1b43151a7612ad8eaf7684434673eef);\n",
       "        \n",
       "    \n",
       "            var marker_1f5ae22b77f00d5145b63470ba5d1a65 = L.marker(\n",
       "                [-29.115566666666666, 26.219566666666665],\n",
       "                {}\n",
       "            ).addTo(map_b1b43151a7612ad8eaf7684434673eef);\n",
       "        \n",
       "    \n",
       "            var div_icon_d87866b4970acf2ec1bc7c5a5aecb7e2 = L.divIcon({&quot;className&quot;: &quot;empty&quot;, &quot;html&quot;: &quot;\\u003cdiv style=\\&quot;font-size: 12pt\\&quot;\\u003eBloemfontein Switch\\u00a0 \\u003c/div\\u003e&quot;});\n",
       "            marker_1f5ae22b77f00d5145b63470ba5d1a65.setIcon(div_icon_d87866b4970acf2ec1bc7c5a5aecb7e2);\n",
       "        \n",
       "    \n",
       "        var popup_828fe19b8acaeb9431c416acc8a1793d = L.popup({&quot;maxWidth&quot;: &quot;100%&quot;});\n",
       "\n",
       "        \n",
       "            \n",
       "                var html_c79a95f7749bff93196a9c4c4b88caba = $(`&lt;div id=&quot;html_c79a95f7749bff93196a9c4c4b88caba&quot; style=&quot;width: 100.0%; height: 100.0%;&quot;&gt;Bloemfontein Switch  &lt;/div&gt;`)[0];\n",
       "                popup_828fe19b8acaeb9431c416acc8a1793d.setContent(html_c79a95f7749bff93196a9c4c4b88caba);\n",
       "            \n",
       "        \n",
       "\n",
       "        marker_1f5ae22b77f00d5145b63470ba5d1a65.bindPopup(popup_828fe19b8acaeb9431c416acc8a1793d)\n",
       "        ;\n",
       "\n",
       "        \n",
       "    \n",
       "    \n",
       "            tile_layer_69a1ef0c49479cc9e3aaed68806af9f9.addTo(map_b1b43151a7612ad8eaf7684434673eef);\n",
       "        \n",
       "    \n",
       "            var circle_marker_75d082827ab27cef5f341d8dd1041006 = L.circleMarker(\n",
       "                [-29.115566666666666, 26.219566666666665],\n",
       "                {&quot;bubblingMouseEvents&quot;: true, &quot;color&quot;: &quot;pink&quot;, &quot;dashArray&quot;: null, &quot;dashOffset&quot;: null, &quot;fill&quot;: true, &quot;fillColor&quot;: &quot;pink&quot;, &quot;fillOpacity&quot;: 0.2, &quot;fillRule&quot;: &quot;evenodd&quot;, &quot;lineCap&quot;: &quot;round&quot;, &quot;lineJoin&quot;: &quot;round&quot;, &quot;opacity&quot;: 1.0, &quot;radius&quot;: 10, &quot;stroke&quot;: true, &quot;weight&quot;: 3}\n",
       "            ).addTo(map_b1b43151a7612ad8eaf7684434673eef);\n",
       "        \n",
       "    \n",
       "            var marker_c7a731cebfa81be50cd2b3b865b8b8bf = L.marker(\n",
       "                [-29.115566666666666, 26.219566666666665],\n",
       "                {}\n",
       "            ).addTo(map_b1b43151a7612ad8eaf7684434673eef);\n",
       "        \n",
       "    \n",
       "            var div_icon_6b359b99bc973f4f25109f235ffb571f = L.divIcon({&quot;className&quot;: &quot;empty&quot;, &quot;html&quot;: &quot;\\u003cdiv style=\\&quot;font-size: 12pt\\&quot;\\u003eBloemfontein Switch\\u00a0 \\u003c/div\\u003e&quot;});\n",
       "            marker_c7a731cebfa81be50cd2b3b865b8b8bf.setIcon(div_icon_6b359b99bc973f4f25109f235ffb571f);\n",
       "        \n",
       "    \n",
       "        var popup_6ec69fd79709615557a3c89bcd3ceef2 = L.popup({&quot;maxWidth&quot;: &quot;100%&quot;});\n",
       "\n",
       "        \n",
       "            \n",
       "                var html_f22b5e052300f62ce3798310ffb62321 = $(`&lt;div id=&quot;html_f22b5e052300f62ce3798310ffb62321&quot; style=&quot;width: 100.0%; height: 100.0%;&quot;&gt;Bloemfontein Switch  &lt;/div&gt;`)[0];\n",
       "                popup_6ec69fd79709615557a3c89bcd3ceef2.setContent(html_f22b5e052300f62ce3798310ffb62321);\n",
       "            \n",
       "        \n",
       "\n",
       "        marker_c7a731cebfa81be50cd2b3b865b8b8bf.bindPopup(popup_6ec69fd79709615557a3c89bcd3ceef2)\n",
       "        ;\n",
       "\n",
       "        \n",
       "    \n",
       "    \n",
       "            tile_layer_69a1ef0c49479cc9e3aaed68806af9f9.addTo(map_b1b43151a7612ad8eaf7684434673eef);\n",
       "        \n",
       "    \n",
       "            var circle_marker_5668d6f24f202ec462886bb915ea60cc = L.circleMarker(\n",
       "                [-29.115566666666666, 26.219566666666665],\n",
       "                {&quot;bubblingMouseEvents&quot;: true, &quot;color&quot;: &quot;pink&quot;, &quot;dashArray&quot;: null, &quot;dashOffset&quot;: null, &quot;fill&quot;: true, &quot;fillColor&quot;: &quot;pink&quot;, &quot;fillOpacity&quot;: 0.2, &quot;fillRule&quot;: &quot;evenodd&quot;, &quot;lineCap&quot;: &quot;round&quot;, &quot;lineJoin&quot;: &quot;round&quot;, &quot;opacity&quot;: 1.0, &quot;radius&quot;: 10, &quot;stroke&quot;: true, &quot;weight&quot;: 3}\n",
       "            ).addTo(map_b1b43151a7612ad8eaf7684434673eef);\n",
       "        \n",
       "    \n",
       "            var marker_40a0d65743c7ea1ef8da03487a4ea5c4 = L.marker(\n",
       "                [-29.115566666666666, 26.219566666666665],\n",
       "                {}\n",
       "            ).addTo(map_b1b43151a7612ad8eaf7684434673eef);\n",
       "        \n",
       "    \n",
       "            var div_icon_2d436f71e8614a8fd3ac8a1747ab88f1 = L.divIcon({&quot;className&quot;: &quot;empty&quot;, &quot;html&quot;: &quot;\\u003cdiv style=\\&quot;font-size: 12pt\\&quot;\\u003eBloemfontein Switch\\u00a0 \\u003c/div\\u003e&quot;});\n",
       "            marker_40a0d65743c7ea1ef8da03487a4ea5c4.setIcon(div_icon_2d436f71e8614a8fd3ac8a1747ab88f1);\n",
       "        \n",
       "    \n",
       "        var popup_2e4bcf770e3cdc2a75ed077bd7357f42 = L.popup({&quot;maxWidth&quot;: &quot;100%&quot;});\n",
       "\n",
       "        \n",
       "            \n",
       "                var html_33e32541e34752ac530d26488fcd6066 = $(`&lt;div id=&quot;html_33e32541e34752ac530d26488fcd6066&quot; style=&quot;width: 100.0%; height: 100.0%;&quot;&gt;Bloemfontein Switch  &lt;/div&gt;`)[0];\n",
       "                popup_2e4bcf770e3cdc2a75ed077bd7357f42.setContent(html_33e32541e34752ac530d26488fcd6066);\n",
       "            \n",
       "        \n",
       "\n",
       "        marker_40a0d65743c7ea1ef8da03487a4ea5c4.bindPopup(popup_2e4bcf770e3cdc2a75ed077bd7357f42)\n",
       "        ;\n",
       "\n",
       "        \n",
       "    \n",
       "&lt;/script&gt;\n",
       "&lt;/html&gt;\" style=\"position:absolute;width:100%;height:100%;left:0;top:0;border:none !important;\" allowfullscreen webkitallowfullscreen mozallowfullscreen></iframe></div></div>"
      ],
      "text/plain": [
       "<folium.folium.Map at 0x21656e69990>"
      ]
     },
     "execution_count": 96,
     "metadata": {},
     "output_type": "execute_result"
    }
   ],
   "source": [
    "folium.CircleMarker(to_coords(point2), color='pink', fill=True).add_to(my_map)\n",
    "folium.Marker(to_coords(point2), \n",
    "              popup = label2,\n",
    "              icon=folium.DivIcon(html='<div style=\"font-size: 12pt\">%s</div>' % label2)).add_to(my_map)\n",
    "my_map"
   ]
  },
  {
   "cell_type": "markdown",
   "id": "01b5966f-b53c-4f48-80ce-77eb9fed66d8",
   "metadata": {},
   "source": [
    "OK, I can do this!"
   ]
  },
  {
   "cell_type": "markdown",
   "id": "0aaa6a61-4455-4b00-b855-b33103a73f23",
   "metadata": {},
   "source": [
    "#### Zoomed in views"
   ]
  },
  {
   "cell_type": "code",
   "execution_count": 97,
   "id": "e958b469-d8a1-403b-a08c-eeaf3221362f",
   "metadata": {},
   "outputs": [],
   "source": [
    "subset_df = df.head(5)"
   ]
  },
  {
   "cell_type": "code",
   "execution_count": 98,
   "id": "e789e0a5-5cdd-4206-80c4-6a5bc8af5708",
   "metadata": {},
   "outputs": [
    {
     "data": {
      "text/html": [
       "<div>\n",
       "<style scoped>\n",
       "    .dataframe tbody tr th:only-of-type {\n",
       "        vertical-align: middle;\n",
       "    }\n",
       "\n",
       "    .dataframe tbody tr th {\n",
       "        vertical-align: top;\n",
       "    }\n",
       "\n",
       "    .dataframe thead th {\n",
       "        text-align: right;\n",
       "    }\n",
       "</style>\n",
       "<table border=\"1\" class=\"dataframe\">\n",
       "  <thead>\n",
       "    <tr style=\"text-align: right;\">\n",
       "      <th></th>\n",
       "      <th>Site</th>\n",
       "      <th>Longitude</th>\n",
       "      <th>Latitude</th>\n",
       "      <th>Total Land Price (R)</th>\n",
       "    </tr>\n",
       "  </thead>\n",
       "  <tbody>\n",
       "    <tr>\n",
       "      <th>0</th>\n",
       "      <td>Berea Switch</td>\n",
       "      <td>S29 51.443</td>\n",
       "      <td>E31 00.381</td>\n",
       "      <td>7.224778e+07</td>\n",
       "    </tr>\n",
       "    <tr>\n",
       "      <th>1</th>\n",
       "      <td>Bloemfontein Switch</td>\n",
       "      <td>S29 06.934</td>\n",
       "      <td>E26 13.174</td>\n",
       "      <td>2.078264e+07</td>\n",
       "    </tr>\n",
       "    <tr>\n",
       "      <th>2</th>\n",
       "      <td>Cape Town Switch</td>\n",
       "      <td>S33 55.810</td>\n",
       "      <td>E18 25.321</td>\n",
       "      <td>2.259380e+07</td>\n",
       "    </tr>\n",
       "    <tr>\n",
       "      <th>3</th>\n",
       "      <td>Centurion</td>\n",
       "      <td>S25 54.584</td>\n",
       "      <td>E28 10.206</td>\n",
       "      <td>2.325816e+08</td>\n",
       "    </tr>\n",
       "    <tr>\n",
       "      <th>4</th>\n",
       "      <td>Doornfontein</td>\n",
       "      <td>S26 11.783</td>\n",
       "      <td>E28 03.333</td>\n",
       "      <td>4.646761e+08</td>\n",
       "    </tr>\n",
       "  </tbody>\n",
       "</table>\n",
       "</div>"
      ],
      "text/plain": [
       "                    Site   Longitude    Latitude  Total Land Price (R)\n",
       "0         Berea Switch    S29 51.443  E31 00.381          7.224778e+07\n",
       "1  Bloemfontein Switch    S29 06.934  E26 13.174          2.078264e+07\n",
       "2     Cape Town Switch    S33 55.810  E18 25.321          2.259380e+07\n",
       "3             Centurion   S25 54.584  E28 10.206          2.325816e+08\n",
       "4  Doornfontein           S26 11.783  E28 03.333          4.646761e+08"
      ]
     },
     "execution_count": 98,
     "metadata": {},
     "output_type": "execute_result"
    }
   ],
   "source": [
    "subset_df"
   ]
  },
  {
   "cell_type": "code",
   "execution_count": 104,
   "id": "c21cf1a9-e4ee-4c94-abbf-bbdd416018ef",
   "metadata": {},
   "outputs": [
    {
     "name": "stderr",
     "output_type": "stream",
     "text": [
      "C:\\Users\\hurwi\\AppData\\Local\\Temp\\ipykernel_4832\\2721418478.py:1: SettingWithCopyWarning: \n",
      "A value is trying to be set on a copy of a slice from a DataFrame.\n",
      "Try using .loc[row_indexer,col_indexer] = value instead\n",
      "\n",
      "See the caveats in the documentation: https://pandas.pydata.org/pandas-docs/stable/user_guide/indexing.html#returning-a-view-versus-a-copy\n",
      "  subset_df['coords'] = subset_df.apply(lambda x: to_coords([x['Longitude'], x['Latitude']]), axis=1)\n"
     ]
    },
    {
     "data": {
      "text/html": [
       "<div>\n",
       "<style scoped>\n",
       "    .dataframe tbody tr th:only-of-type {\n",
       "        vertical-align: middle;\n",
       "    }\n",
       "\n",
       "    .dataframe tbody tr th {\n",
       "        vertical-align: top;\n",
       "    }\n",
       "\n",
       "    .dataframe thead th {\n",
       "        text-align: right;\n",
       "    }\n",
       "</style>\n",
       "<table border=\"1\" class=\"dataframe\">\n",
       "  <thead>\n",
       "    <tr style=\"text-align: right;\">\n",
       "      <th></th>\n",
       "      <th>Site</th>\n",
       "      <th>Longitude</th>\n",
       "      <th>Latitude</th>\n",
       "      <th>Total Land Price (R)</th>\n",
       "      <th>coords</th>\n",
       "    </tr>\n",
       "  </thead>\n",
       "  <tbody>\n",
       "    <tr>\n",
       "      <th>0</th>\n",
       "      <td>Berea Switch</td>\n",
       "      <td>S29 51.443</td>\n",
       "      <td>E31 00.381</td>\n",
       "      <td>7.224778e+07</td>\n",
       "      <td>[-29.857383333333335, 31.00635]</td>\n",
       "    </tr>\n",
       "    <tr>\n",
       "      <th>1</th>\n",
       "      <td>Bloemfontein Switch</td>\n",
       "      <td>S29 06.934</td>\n",
       "      <td>E26 13.174</td>\n",
       "      <td>2.078264e+07</td>\n",
       "      <td>[-29.115566666666666, 26.219566666666665]</td>\n",
       "    </tr>\n",
       "    <tr>\n",
       "      <th>2</th>\n",
       "      <td>Cape Town Switch</td>\n",
       "      <td>S33 55.810</td>\n",
       "      <td>E18 25.321</td>\n",
       "      <td>2.259380e+07</td>\n",
       "      <td>[-33.930166666666665, 18.422016666666668]</td>\n",
       "    </tr>\n",
       "    <tr>\n",
       "      <th>3</th>\n",
       "      <td>Centurion</td>\n",
       "      <td>S25 54.584</td>\n",
       "      <td>E28 10.206</td>\n",
       "      <td>2.325816e+08</td>\n",
       "      <td>[-25.90973333333333, 28.1701]</td>\n",
       "    </tr>\n",
       "    <tr>\n",
       "      <th>4</th>\n",
       "      <td>Doornfontein</td>\n",
       "      <td>S26 11.783</td>\n",
       "      <td>E28 03.333</td>\n",
       "      <td>4.646761e+08</td>\n",
       "      <td>[-26.196383333333333, 28.05555]</td>\n",
       "    </tr>\n",
       "  </tbody>\n",
       "</table>\n",
       "</div>"
      ],
      "text/plain": [
       "                    Site   Longitude    Latitude  Total Land Price (R)  \\\n",
       "0         Berea Switch    S29 51.443  E31 00.381          7.224778e+07   \n",
       "1  Bloemfontein Switch    S29 06.934  E26 13.174          2.078264e+07   \n",
       "2     Cape Town Switch    S33 55.810  E18 25.321          2.259380e+07   \n",
       "3             Centurion   S25 54.584  E28 10.206          2.325816e+08   \n",
       "4  Doornfontein           S26 11.783  E28 03.333          4.646761e+08   \n",
       "\n",
       "                                      coords  \n",
       "0            [-29.857383333333335, 31.00635]  \n",
       "1  [-29.115566666666666, 26.219566666666665]  \n",
       "2  [-33.930166666666665, 18.422016666666668]  \n",
       "3              [-25.90973333333333, 28.1701]  \n",
       "4            [-26.196383333333333, 28.05555]  "
      ]
     },
     "execution_count": 104,
     "metadata": {},
     "output_type": "execute_result"
    }
   ],
   "source": [
    "subset_df['coords'] = subset_df.apply(lambda x: to_coords([x['Longitude'], x['Latitude']]), axis=1)\n",
    "subset_df"
   ]
  },
  {
   "cell_type": "code",
   "execution_count": 129,
   "id": "ced4656a-2216-47d6-9798-848538530b30",
   "metadata": {},
   "outputs": [],
   "source": [
    "maps = [folium.Map(location=coords, zoom_start=13) for coords in subset_df.coords.values]"
   ]
  },
  {
   "cell_type": "code",
   "execution_count": 130,
   "id": "77d42181-f71a-45d1-8214-0096f201050d",
   "metadata": {},
   "outputs": [
    {
     "data": {
      "text/html": [
       "<div style=\"width:100%;\"><div style=\"position:relative;width:100%;height:0;padding-bottom:60%;\"><span style=\"color:#565656\">Make this Notebook Trusted to load map: File -> Trust Notebook</span><iframe srcdoc=\"&lt;!DOCTYPE html&gt;\n",
       "&lt;html&gt;\n",
       "&lt;head&gt;\n",
       "    \n",
       "    &lt;meta http-equiv=&quot;content-type&quot; content=&quot;text/html; charset=UTF-8&quot; /&gt;\n",
       "    \n",
       "        &lt;script&gt;\n",
       "            L_NO_TOUCH = false;\n",
       "            L_DISABLE_3D = false;\n",
       "        &lt;/script&gt;\n",
       "    \n",
       "    &lt;style&gt;html, body {width: 100%;height: 100%;margin: 0;padding: 0;}&lt;/style&gt;\n",
       "    &lt;style&gt;#map {position:absolute;top:0;bottom:0;right:0;left:0;}&lt;/style&gt;\n",
       "    &lt;script src=&quot;https://cdn.jsdelivr.net/npm/leaflet@1.9.3/dist/leaflet.js&quot;&gt;&lt;/script&gt;\n",
       "    &lt;script src=&quot;https://code.jquery.com/jquery-3.7.1.min.js&quot;&gt;&lt;/script&gt;\n",
       "    &lt;script src=&quot;https://cdn.jsdelivr.net/npm/bootstrap@5.2.2/dist/js/bootstrap.bundle.min.js&quot;&gt;&lt;/script&gt;\n",
       "    &lt;script src=&quot;https://cdnjs.cloudflare.com/ajax/libs/Leaflet.awesome-markers/2.0.2/leaflet.awesome-markers.js&quot;&gt;&lt;/script&gt;\n",
       "    &lt;link rel=&quot;stylesheet&quot; href=&quot;https://cdn.jsdelivr.net/npm/leaflet@1.9.3/dist/leaflet.css&quot;/&gt;\n",
       "    &lt;link rel=&quot;stylesheet&quot; href=&quot;https://cdn.jsdelivr.net/npm/bootstrap@5.2.2/dist/css/bootstrap.min.css&quot;/&gt;\n",
       "    &lt;link rel=&quot;stylesheet&quot; href=&quot;https://netdna.bootstrapcdn.com/bootstrap/3.0.0/css/bootstrap.min.css&quot;/&gt;\n",
       "    &lt;link rel=&quot;stylesheet&quot; href=&quot;https://cdn.jsdelivr.net/npm/@fortawesome/fontawesome-free@6.2.0/css/all.min.css&quot;/&gt;\n",
       "    &lt;link rel=&quot;stylesheet&quot; href=&quot;https://cdnjs.cloudflare.com/ajax/libs/Leaflet.awesome-markers/2.0.2/leaflet.awesome-markers.css&quot;/&gt;\n",
       "    &lt;link rel=&quot;stylesheet&quot; href=&quot;https://cdn.jsdelivr.net/gh/python-visualization/folium/folium/templates/leaflet.awesome.rotate.min.css&quot;/&gt;\n",
       "    \n",
       "            &lt;meta name=&quot;viewport&quot; content=&quot;width=device-width,\n",
       "                initial-scale=1.0, maximum-scale=1.0, user-scalable=no&quot; /&gt;\n",
       "            &lt;style&gt;\n",
       "                #map_f415dac40b10d2619b4170a8b1581666 {\n",
       "                    position: relative;\n",
       "                    width: 100.0%;\n",
       "                    height: 100.0%;\n",
       "                    left: 0.0%;\n",
       "                    top: 0.0%;\n",
       "                }\n",
       "                .leaflet-container { font-size: 1rem; }\n",
       "            &lt;/style&gt;\n",
       "        \n",
       "&lt;/head&gt;\n",
       "&lt;body&gt;\n",
       "    \n",
       "    \n",
       "            &lt;div class=&quot;folium-map&quot; id=&quot;map_f415dac40b10d2619b4170a8b1581666&quot; &gt;&lt;/div&gt;\n",
       "        \n",
       "&lt;/body&gt;\n",
       "&lt;script&gt;\n",
       "    \n",
       "    \n",
       "            var map_f415dac40b10d2619b4170a8b1581666 = L.map(\n",
       "                &quot;map_f415dac40b10d2619b4170a8b1581666&quot;,\n",
       "                {\n",
       "                    center: [-29.857383333333335, 31.00635],\n",
       "                    crs: L.CRS.EPSG3857,\n",
       "                    zoom: 13,\n",
       "                    zoomControl: true,\n",
       "                    preferCanvas: false,\n",
       "                }\n",
       "            );\n",
       "\n",
       "            \n",
       "\n",
       "        \n",
       "    \n",
       "            var tile_layer_0d95f984a0526cf578cd2bb4fdc59572 = L.tileLayer(\n",
       "                &quot;https://tile.openstreetmap.org/{z}/{x}/{y}.png&quot;,\n",
       "                {&quot;attribution&quot;: &quot;\\u0026copy; \\u003ca href=\\&quot;https://www.openstreetmap.org/copyright\\&quot;\\u003eOpenStreetMap\\u003c/a\\u003e contributors&quot;, &quot;detectRetina&quot;: false, &quot;maxNativeZoom&quot;: 19, &quot;maxZoom&quot;: 19, &quot;minZoom&quot;: 0, &quot;noWrap&quot;: false, &quot;opacity&quot;: 1, &quot;subdomains&quot;: &quot;abc&quot;, &quot;tms&quot;: false}\n",
       "            );\n",
       "        \n",
       "    \n",
       "            tile_layer_0d95f984a0526cf578cd2bb4fdc59572.addTo(map_f415dac40b10d2619b4170a8b1581666);\n",
       "        \n",
       "    \n",
       "            var circle_marker_64907ccd2e44f42df049e5d840a8dcab = L.circleMarker(\n",
       "                [-29.857383333333335, 31.00635],\n",
       "                {&quot;bubblingMouseEvents&quot;: true, &quot;color&quot;: &quot;Blue&quot;, &quot;dashArray&quot;: null, &quot;dashOffset&quot;: null, &quot;fill&quot;: true, &quot;fillColor&quot;: &quot;Blue&quot;, &quot;fillOpacity&quot;: 0.2, &quot;fillRule&quot;: &quot;evenodd&quot;, &quot;lineCap&quot;: &quot;round&quot;, &quot;lineJoin&quot;: &quot;round&quot;, &quot;opacity&quot;: 1.0, &quot;radius&quot;: 6, &quot;stroke&quot;: true, &quot;weight&quot;: 3}\n",
       "            ).addTo(map_f415dac40b10d2619b4170a8b1581666);\n",
       "        \n",
       "    \n",
       "            var marker_d1b7e78689b260d6d92ecf2d5638a57c = L.marker(\n",
       "                [-29.857383333333335, 31.00635],\n",
       "                {}\n",
       "            ).addTo(map_f415dac40b10d2619b4170a8b1581666);\n",
       "        \n",
       "    \n",
       "            var div_icon_2147d67a980cde0d2b02b0fd755f6eee = L.divIcon({&quot;className&quot;: &quot;empty&quot;, &quot;html&quot;: &quot;\\u003cdiv style=\\&quot;font-size: 12pt\\&quot;\\u003eBerea Switch\\u00a0 \\u003c/div\\u003e&quot;});\n",
       "            marker_d1b7e78689b260d6d92ecf2d5638a57c.setIcon(div_icon_2147d67a980cde0d2b02b0fd755f6eee);\n",
       "        \n",
       "    \n",
       "        var popup_17e63487758aeee9901ad44d86433eee = L.popup({&quot;maxWidth&quot;: &quot;100%&quot;});\n",
       "\n",
       "        \n",
       "            \n",
       "                var html_8ceb7205728f3033a5af4ea544087fce = $(`&lt;div id=&quot;html_8ceb7205728f3033a5af4ea544087fce&quot; style=&quot;width: 100.0%; height: 100.0%;&quot;&gt;Berea Switch  &lt;/div&gt;`)[0];\n",
       "                popup_17e63487758aeee9901ad44d86433eee.setContent(html_8ceb7205728f3033a5af4ea544087fce);\n",
       "            \n",
       "        \n",
       "\n",
       "        marker_d1b7e78689b260d6d92ecf2d5638a57c.bindPopup(popup_17e63487758aeee9901ad44d86433eee)\n",
       "        ;\n",
       "\n",
       "        \n",
       "    \n",
       "&lt;/script&gt;\n",
       "&lt;/html&gt;\" style=\"position:absolute;width:100%;height:100%;left:0;top:0;border:none !important;\" allowfullscreen webkitallowfullscreen mozallowfullscreen></iframe></div></div>"
      ],
      "text/plain": [
       "<folium.folium.Map at 0x2165f505cd0>"
      ]
     },
     "execution_count": 130,
     "metadata": {},
     "output_type": "execute_result"
    }
   ],
   "source": [
    "folium.CircleMarker(location=list(subset_df.coords.values)[0],\n",
    "                    radius = 6,\n",
    "                    color = 'Blue',\n",
    "                    fill=True).add_to(maps[0])\n",
    "folium.Marker(list(subset_df.coords.values)[0], \n",
    "              popup = subset_df.Site[0],\n",
    "              icon=folium.DivIcon(html='<div style=\"font-size: 12pt\">%s</div>' % subset_df.Site[0])).add_to(maps[0])\n",
    "maps[0]"
   ]
  },
  {
   "cell_type": "code",
   "execution_count": 131,
   "id": "b81150d2-5552-4473-9574-4e560b1bcd89",
   "metadata": {},
   "outputs": [],
   "source": [
    "maps[0].save('bunny.html')"
   ]
  },
  {
   "cell_type": "code",
   "execution_count": null,
   "id": "8a69e2d9-1062-42be-b1c7-7708a37eccbf",
   "metadata": {},
   "outputs": [],
   "source": []
  }
 ],
 "metadata": {
  "kernelspec": {
   "display_name": "A50Fol",
   "language": "python",
   "name": "a50fol"
  },
  "language_info": {
   "codemirror_mode": {
    "name": "ipython",
    "version": 3
   },
   "file_extension": ".py",
   "mimetype": "text/x-python",
   "name": "python",
   "nbconvert_exporter": "python",
   "pygments_lexer": "ipython3",
   "version": "3.11.5"
  }
 },
 "nbformat": 4,
 "nbformat_minor": 5
}
